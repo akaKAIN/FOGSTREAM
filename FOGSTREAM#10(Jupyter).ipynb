{
 "cells": [
  {
   "cell_type": "markdown",
   "metadata": {},
   "source": [
    "## Задание №1\n",
    "Напишите функцию-представление handle, которая вернёт имя первого питомца в базе или ошибку 404, если питомцев нет."
   ]
  },
  {
   "cell_type": "code",
   "execution_count": null,
   "metadata": {},
   "outputs": [],
   "source": [
    "# Pet - модель с полем name\n",
    "from django.http import HttpResponse\n",
    "from django.http import Http404\n",
    "\n",
    "\n",
    "def handle(request):\n",
    "    pets_names = Pet.objects.values_list('name')\n",
    "    if len(pets_names) == 0:\n",
    "        raise Http404('No pets found :(')\n",
    "    else:\n",
    "        return HttpResponse(pets_names[0][0])"
   ]
  },
  {
   "cell_type": "markdown",
   "metadata": {},
   "source": [
    "## Задание №2\n",
    "Напишите функцию-представление handle, которая будет обрабатывать POST запрос. Оно должно проверять, есть ли пользователь с переданными данными в базе данных."
   ]
  },
  {
   "cell_type": "code",
   "execution_count": null,
   "metadata": {},
   "outputs": [],
   "source": [
    "from django.contrib.auth.models import User\n",
    "from django.http import HttpResponse\n",
    "import json\n",
    "\n",
    "\n",
    "def handle(request):\n",
    "    user_info = json.loads(request.body)\n",
    "    names_query = list(User.objects.values('username'))\n",
    "    emails_query = list(User.objects.values('email'))\n",
    "    nam_list = [user['username'] for user in names_query]\n",
    "    em_list = [email['email'] for email in emails_query]\n",
    "    if user_info['username'] in nam_list and user_info['email'] in em_list:\n",
    "        return HttpResponse(True)\n",
    "    return HttpResponse(False)\n",
    "\n",
    "# Пробовал через  authenticate, но всякий раз получал None :`(\n",
    "# user = authenticate(username=user_info['username'], email=user_info['email'])\n",
    "# if user:\n",
    "#   return HttpResponse(True) ..."
   ]
  },
  {
   "cell_type": "markdown",
   "metadata": {},
   "source": [
    "## Задание №3\n",
    "Необходимо написать CBV PostView, основанное на классе, которое будет кодировать переданные строки в base64 и возвращать в формате json. Строки использовать в кодироаке utf-8."
   ]
  },
  {
   "cell_type": "code",
   "execution_count": null,
   "metadata": {},
   "outputs": [],
   "source": [
    "import json\n",
    "from django.http import JsonResponse\n",
    "from django.views.generic import View\n",
    "import base64\n",
    "\n",
    "\n",
    "# base64.b64encode(bytes('your string', 'utf-8'))\n",
    "\n",
    "class PostView(View):\n",
    "\n",
    "    def post(self, request):\n",
    "        text = json.loads(request.body)\n",
    "        for key, values in text.items():\n",
    "            text[key] = [\n",
    "                base64.b64encode(value.encode()).decode('utf-8')\n",
    "                for value in values\n",
    "            ]\n",
    "        return JsonResponse(text)"
   ]
  },
  {
   "cell_type": "markdown",
   "metadata": {},
   "source": [
    "## Задание №4\n",
    "Напишите CBV PetListView для шаблона, который сформирует необходимый контекст для get запроса. Список pets в шаблоне должен состоять из 5 первых по алфавиту питомцев."
   ]
  },
  {
   "cell_type": "code",
   "execution_count": null,
   "metadata": {},
   "outputs": [],
   "source": [
    "# Pet - модель с полем name, template_path - строка\n",
    "from django.views.generic.base import TemplateView\n",
    "\n",
    "\n",
    "class PetListView(TemplateView):\n",
    "\n",
    "    template_name = template_path\n",
    "\n",
    "    def get_context_data(self):\n",
    "        context = dict()\n",
    "        context['pets'] = Pet.objects.order_by('name').all()[:5]\n",
    "        return context"
   ]
  },
  {
   "cell_type": "markdown",
   "metadata": {},
   "source": [
    "## Задание №5\n",
    "Реализуйте функцию handle, которая сформирует необходимый контекст. Обработайте get и post запросы. При post запросе сделайте переход на url /auth, если форма валидная. При get запросе необходимо вывести поля формы."
   ]
  },
  {
   "cell_type": "code",
   "execution_count": null,
   "metadata": {},
   "outputs": [],
   "source": [
    "# Pet - модель с полем name, PetForm - форма для модели Pet с полем name\n",
    "# template_path - строка, redirect_url - строка\n",
    "\n",
    "from django.shortcuts import render, redirect\n",
    "\n",
    "\n",
    "def handle(request):\n",
    "    if request.method == 'POST':\n",
    "        form = PetForm(request.POST, request.FILES)\n",
    "        if form.is_valid():\n",
    "            form.save()\n",
    "            return redirect(redirect_url)\n",
    "        return render(request, template_path, {'form': form})\n",
    "    else:\n",
    "        form = PetForm()\n",
    "        return render(request, template_path, {'form': form})"
   ]
  },
  {
   "cell_type": "markdown",
   "metadata": {},
   "source": [
    "## Задание №6\n",
    "Реализуйте CBV PetView, которая сформирует необходимый контекст. Обработайте get и post запросы. При post запросе сделайте переход на url /auth, если форма валидная. При get запросе необходимо вывести поля формы.\n",
    "\n"
   ]
  },
  {
   "cell_type": "code",
   "execution_count": null,
   "metadata": {},
   "outputs": [],
   "source": []
  }
 ],
 "metadata": {
  "kernelspec": {
   "display_name": "Python 3",
   "language": "python",
   "name": "python3"
  },
  "language_info": {
   "codemirror_mode": {
    "name": "ipython",
    "version": 3
   },
   "file_extension": ".py",
   "mimetype": "text/x-python",
   "name": "python",
   "nbconvert_exporter": "python",
   "pygments_lexer": "ipython3",
   "version": "3.6.7"
  }
 },
 "nbformat": 4,
 "nbformat_minor": 2
}
