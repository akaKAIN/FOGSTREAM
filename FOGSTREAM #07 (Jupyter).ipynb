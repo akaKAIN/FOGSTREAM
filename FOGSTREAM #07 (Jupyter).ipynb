{
 "cells": [
  {
   "cell_type": "markdown",
   "metadata": {},
   "source": [
    "## Задание №1\n",
    "Дан генератор data_list_iter. Хранит в себе различного рода объекты. Необходимо используя инструменты itertools сформировать словарь, где ключи это последовательность четных числел включая 0 а значения это элементы из списка."
   ]
  },
  {
   "cell_type": "code",
   "execution_count": null,
   "metadata": {},
   "outputs": [],
   "source": [
    "import itertools\n",
    "\n",
    "result = dict(zip(itertools.count(0, 2), data_list_iter))"
   ]
  },
  {
   "cell_type": "markdown",
   "metadata": {},
   "source": [
    "## Задание №2\n",
    "функция - exec_decrypt(message_symbol, key_symbol) - производит операцию дешифрования над двумя элементами и возвращает результат типа int (код символа).\n",
    "\n",
    "Релизовать функцию decrypt(message, key), где message - зашифрованное сообщение, итератор по последостельности символов (поток), key - ключ для расшифровки (тоже итератор). decrypt - функция потокового дешифратора которая с помощью exec_decrypt расшифрует каждый символ последовательно и вернет расшифированное сообщение целиком.\n",
    "\n",
    "Т.е. необходимо применить exec_decrypt для каждого символа сообщения и соответствующего по порядку символа ключа. Длина сообщения и длина ключа не равны и не определены заранее, поэтому, если ключ будет меньше чем сообщение, необходимо его зациклить. То есть если ключ имеет длину 3, то 4-й символ сообщения соответствует первому символу ключа и далее по порядку."
   ]
  },
  {
   "cell_type": "code",
   "execution_count": null,
   "metadata": {},
   "outputs": [],
   "source": [
    "import itertools\n",
    "\n",
    "\n",
    "# Вариант №1\n",
    "def decrypt(message, key):\n",
    "    result = [\n",
    "        exec_decrypt(i, k) for i, k in zip(message, itertools.cycle(key))\n",
    "    ]\n",
    "    return bytes(result)\n",
    "\n",
    "# Вариант №2\n",
    "# def decrypt(message, key):\n",
    "#     result = []\n",
    "#     for i, k in zip(message, itertools.cycle(key)):\n",
    "#         result.append(exec_decrypt(i, k))\n",
    "#     return bytes(result)"
   ]
  },
  {
   "cell_type": "markdown",
   "metadata": {},
   "source": [
    "## Задание №3\n",
    "Данные о всех действиях пользователей распределены по нескольким серверам, поэтому сбор данных происходит за несколько запросов. Каждый запрос с каждого сервера возвращает итератор.\n",
    "Таким образом в переменной responses хранится список этих итераторов.\n",
    "\n",
    "Наша задача собрать самую актуальную информаоцию о пользователях. Проблема в том что серверов несколько и данные разбросаны хаотично, поэтому информация об одном и том же пользователе может хранится на разных серверах. Для этого необходимо пройтись по всем итераторам и выбрать самую свежую информацию по каждому пользователю. Пользователь идентифицируется через хеш пользователя (hash) Актуальность смотрится по дате (time)\n",
    "Результат необходимо оформить в виде словаря где ключ это hash, а значение это самое актуальное значение log."
   ]
  },
  {
   "cell_type": "code",
   "execution_count": null,
   "metadata": {},
   "outputs": [],
   "source": [
    "import itertools\n",
    "\n",
    "result = {}\n",
    "data = sorted(itertools.chain(*responses), key=lambda name: name['hash'])\n",
    "for key, group in itertools.groupby(data, key=lambda name: name['hash']):\n",
    "    group_time = sorted(group, key=lambda time: time['time'])\n",
    "    result[key] = group_time[-1]['log']"
   ]
  },
  {
   "cell_type": "markdown",
   "metadata": {},
   "source": [
    "## Задание №4\n",
    "Дан список моделей автомобилей models и список цветов colors необходимо произвести перебор всех возможных вариантов сочетания модели и цвета. Результат сохранить в переменной result в виде списка кортежей (модель, цвет)."
   ]
  },
  {
   "cell_type": "code",
   "execution_count": null,
   "metadata": {},
   "outputs": [],
   "source": [
    "import itertools\n",
    "\n",
    "\n",
    "result = list(itertools.product(*[models, colors]))\n",
    "\n",
    "# arrays = [models, colors]\n",
    "# result = list(itertools.product(*arrays))"
   ]
  },
  {
   "cell_type": "markdown",
   "metadata": {},
   "source": [
    "## Задание №5\n",
    "В интернет магазине проходит акция. Всем кто является клиентом больше года полагается подарок.\n",
    "\n",
    "Дан итератор по списку клиентов users_iter.\n",
    "В данном списке клинеты уже отсортированы по дате register_date в порядке убывания даты регистрации.\n",
    "\n",
    "Необходимо выбрать из общего списка тех пользователей которые попадают под акцию.\n",
    "\n",
    "Решение должно быть выполнено с помощью itertools."
   ]
  },
  {
   "cell_type": "code",
   "execution_count": null,
   "metadata": {},
   "outputs": [],
   "source": [
    "# users_iter хранит список пользователей\n",
    "from itertools import groupby\n",
    "from datetime import datetime, timedelta"
   ]
  },
  {
   "cell_type": "markdown",
   "metadata": {},
   "source": [
    "* Вариант №1"
   ]
  },
  {
   "cell_type": "code",
   "execution_count": null,
   "metadata": {},
   "outputs": [],
   "source": [
    "for key, group in groupby(users_iter, key=lambda x: (\n",
    "        x.register_date + timedelta(days=365) <= datetime.now())):\n",
    "    result = list(group)"
   ]
  },
  {
   "cell_type": "markdown",
   "metadata": {},
   "source": [
    "* Вариант №2"
   ]
  },
  {
   "cell_type": "code",
   "execution_count": null,
   "metadata": {},
   "outputs": [],
   "source": [
    "result = []\n",
    "for user in users_iter:\n",
    "    if user.register_date + timedelta(days=365) <= datetime.now():\n",
    "        result.append(user)"
   ]
  },
  {
   "cell_type": "markdown",
   "metadata": {},
   "source": [
    "* Вариант №3"
   ]
  },
  {
   "cell_type": "code",
   "execution_count": null,
   "metadata": {},
   "outputs": [],
   "source": [
    "result = [\n",
    "    user for user in users_iter if user.register_date + timedelta(days=365) <= datetime.now()\n",
    "]"
   ]
  },
  {
   "cell_type": "markdown",
   "metadata": {},
   "source": [
    "## Задание №6\n",
    "Необходимо с помошью functools.partial обернуть встроенную функцию  sorted так, чтобы получилась функция, которая всегда сортирует запускает  sorted с параметром reverse = True. Результат сохранить в переменной  rsorted."
   ]
  },
  {
   "cell_type": "code",
   "execution_count": 17,
   "metadata": {},
   "outputs": [],
   "source": [
    "import functools\n",
    "\n",
    "rsorted = functools.partial(sorted, reverse=True)"
   ]
  },
  {
   "cell_type": "markdown",
   "metadata": {},
   "source": [
    "## Задание №7\n",
    "Необходимо средствами из модуля operator сформировать кортеж вида (first_name, second_name, middle_name) и записать этот кортеж в переменную result"
   ]
  },
  {
   "cell_type": "code",
   "execution_count": null,
   "metadata": {},
   "outputs": [],
   "source": [
    "from operator import itemgetter"
   ]
  },
  {
   "cell_type": "markdown",
   "metadata": {},
   "source": [
    "* Вариант №1"
   ]
  },
  {
   "cell_type": "code",
   "execution_count": null,
   "metadata": {},
   "outputs": [],
   "source": [
    "def getter_func(item):\n",
    "    return itemgetter('first_name', 'second_name', 'middle_name')\n",
    "\n",
    "getter = getter_func(user)\n",
    "result = getter(user)"
   ]
  },
  {
   "cell_type": "markdown",
   "metadata": {},
   "source": [
    "* Вариант №2"
   ]
  },
  {
   "cell_type": "code",
   "execution_count": null,
   "metadata": {},
   "outputs": [],
   "source": [
    "var = itemgetter('first_name', 'second_name', 'middle_name')\n",
    "result = var(user)"
   ]
  },
  {
   "cell_type": "markdown",
   "metadata": {},
   "source": [
    "## Задание №8\n",
    "Дан итератор по списку активностей пользователей:\n",
    "\n",
    "activity_it = [...]\n",
    "\n",
    "class User:\n",
    "    username = \n",
    "\n",
    "class Activity:\n",
    "    user = \n",
    "    activity_date = \n",
    "И дано чило n.\n",
    "\n",
    "Необходимо вывести топ n самых активных пользователей. Активность измеряется по среднему числу активностей в день.\n",
    "\n",
    "Результат записать в переменную result в виде списка namedtuple c названием Top (<username - имя пользователя>, <score - среднее число активностей за день>) в порядке убывания активности.\n",
    "\n",
    "1-е место Sam (самый активный) - среднее 5.7 2-е место Monica - среднее 4.2 и т.д.\n",
    "\n",
    "result = [\n",
    "    Top(username='Sam', score=5.7),\n",
    "    Top(username='Monica', score=4.2)\n",
    "]\n",
    "Подсказка: для решения будут полезными: operator.attrgetter,  itertools.groupby, collections.Counter,  statistics.mean (вычисляет среднее значение)."
   ]
  },
  {
   "cell_type": "code",
   "execution_count": null,
   "metadata": {},
   "outputs": [],
   "source": [
    "# activities_iter хранит входные данные\n",
    "# n хранит необходимое число топовых пользователей\n",
    "from collections import Counter, namedtuple\n",
    "import itertools\n",
    "from statistics import mean\n",
    "\n",
    "\n",
    "result = []\n",
    "result_dict = {}\n",
    "Top = namedtuple('Top', ['username', 'score'])\n",
    "\n",
    "for key, group in itertools.groupby(activities_iter,\n",
    "                                    key=lambda x: x.user.username):\n",
    "    array = []\n",
    "    group = sorted(group, key=lambda x: x.activity_date)\n",
    "    for datetime, count in Counter(group).items():\n",
    "        array.append(count)\n",
    "    result_dict[key] = array\n",
    "\n",
    "for name, counts in result_dict.items():\n",
    "    result.append(Top(name, mean(counts)))\n",
    "result = sorted(result, key=lambda x: x.score, reverse=True)[:n]"
   ]
  }
 ],
 "metadata": {
  "kernelspec": {
   "display_name": "Python 3",
   "language": "python",
   "name": "python3"
  },
  "language_info": {
   "codemirror_mode": {
    "name": "ipython",
    "version": 3
   },
   "file_extension": ".py",
   "mimetype": "text/x-python",
   "name": "python",
   "nbconvert_exporter": "python",
   "pygments_lexer": "ipython3",
   "version": "3.6.7"
  }
 },
 "nbformat": 4,
 "nbformat_minor": 2
}
