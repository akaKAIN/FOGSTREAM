{
 "cells": [
  {
   "cell_type": "markdown",
   "metadata": {},
   "source": [
    "## Практика № 2"
   ]
  },
  {
   "cell_type": "markdown",
   "metadata": {},
   "source": [
    "##### * Задание 1"
   ]
  },
  {
   "cell_type": "code",
   "execution_count": null,
   "metadata": {},
   "outputs": [],
   "source": [
    "result = len(words.split())"
   ]
  },
  {
   "cell_type": "markdown",
   "metadata": {},
   "source": [
    "##### * Задание 2"
   ]
  },
  {
   "cell_type": "code",
   "execution_count": null,
   "metadata": {},
   "outputs": [],
   "source": [
    "if len(words) % 2 == 0:\n",
    "    border = int(len(words) / 2)\n",
    "else:\n",
    "    border = int((len(words) + 1) / 2)\n",
    "result = words[border:] + words[:border]"
   ]
  },
  {
   "cell_type": "markdown",
   "metadata": {},
   "source": [
    "##### * Задание 3"
   ]
  },
  {
   "cell_type": "code",
   "execution_count": null,
   "metadata": {},
   "outputs": [],
   "source": [
    "if words.find('f') != words.rfind('f'):\n",
    "    result = words.find('f') + words.rfind('f')\n",
    "else:\n",
    "    result = words.find('f')"
   ]
  },
  {
   "cell_type": "markdown",
   "metadata": {},
   "source": [
    "##### *  Задание 4"
   ]
  },
  {
   "cell_type": "code",
   "execution_count": null,
   "metadata": {},
   "outputs": [],
   "source": [
    "result = words.replace('1', 'one')"
   ]
  },
  {
   "cell_type": "markdown",
   "metadata": {},
   "source": [
    "##### * Задание 5"
   ]
  },
  {
   "cell_type": "code",
   "execution_count": null,
   "metadata": {},
   "outputs": [],
   "source": [
    "# Т.к. (0 % 3) дает 0, то в проверку добавляем +1, чтобы не потерять words[0].\n",
    "new_words = [words[x] for x in range(len(words)) if (x + 1) % 3 != 0]\n",
    "result = ''.join(new_words)"
   ]
  },
  {
   "cell_type": "markdown",
   "metadata": {},
   "source": [
    "##### * Задание 6"
   ]
  },
  {
   "cell_type": "code",
   "execution_count": null,
   "metadata": {},
   "outputs": [],
   "source": [
    "words = len(set(words.replace(' ', '').lower()))\n",
    "result = words == 26"
   ]
  },
  {
   "cell_type": "markdown",
   "metadata": {},
   "source": [
    "##### * Задание 7"
   ]
  },
  {
   "cell_type": "code",
   "execution_count": null,
   "metadata": {},
   "outputs": [],
   "source": [
    "# Поиск \"хэштега\" для универсальности :)\n",
    "start_index = words.index('#')\n",
    "# Т.к. в первом слове прописная буква, то счет ведем с 1.\n",
    "result = 1\n",
    "for simvol in range(start_index + 1, len(words)):\n",
    "    if words[simvol].isupper():\n",
    "        result += 1"
   ]
  },
  {
   "cell_type": "markdown",
   "metadata": {},
   "source": [
    "##### * Задание 8"
   ]
  },
  {
   "cell_type": "code",
   "execution_count": null,
   "metadata": {},
   "outputs": [],
   "source": [
    "result = [numbers[i] for i in range(1, len(numbers))  \\\n",
    "          if numbers[i-1] < numbers[i]]"
   ]
  },
  {
   "cell_type": "markdown",
   "metadata": {},
   "source": [
    "##### * Задание 9"
   ]
  },
  {
   "cell_type": "code",
   "execution_count": null,
   "metadata": {},
   "outputs": [],
   "source": [
    "i = 1\n",
    "result = 0\n",
    "while i < len(numbers)+1:\n",
    "    if numbers[i] / numbers[i-1] > 0:\n",
    "        result = numbers[i] + numbers[i-1]\n",
    "        break\n",
    "    i += 1"
   ]
  },
  {
   "cell_type": "markdown",
   "metadata": {},
   "source": [
    "##### * Задание 10"
   ]
  },
  {
   "cell_type": "code",
   "execution_count": null,
   "metadata": {},
   "outputs": [],
   "source": [
    "result = max(numbers) + numbers.index(max(numbers))"
   ]
  },
  {
   "cell_type": "markdown",
   "metadata": {},
   "source": [
    "##### * Задание 11"
   ]
  },
  {
   "cell_type": "code",
   "execution_count": null,
   "metadata": {},
   "outputs": [],
   "source": [
    "result = [x for x in set(numbers)]"
   ]
  },
  {
   "cell_type": "markdown",
   "metadata": {},
   "source": [
    "##### * Задание 12"
   ]
  },
  {
   "cell_type": "code",
   "execution_count": null,
   "metadata": {},
   "outputs": [],
   "source": [
    "# Т.к. искомого number нет в списке (что противоречит условию),\n",
    "# то блок \"if\" чуток громоздкий.\n",
    "if number not in numbers:\n",
    "    numbers.append(number)\n",
    "    numbers.sort()\n",
    "    result = numbers.index(number)\n",
    "else:\n",
    "    result = numbers.index(number) + 1\n",
    "    numbers.insert(result, number)"
   ]
  },
  {
   "cell_type": "markdown",
   "metadata": {},
   "source": [
    "##### * Задание 13"
   ]
  },
  {
   "cell_type": "code",
   "execution_count": null,
   "metadata": {},
   "outputs": [],
   "source": [
    "grades = []\n",
    "result = []\n",
    "\n",
    "# создаем список с оценками студентов\n",
    "for student in students:\n",
    "    grades.append(student['grade'])\n",
    "\n",
    "# Выбрасываем минимальную оценку.Теперь минимальныя=предпоследней.\n",
    "grades.remove(min(grades))\n",
    "\n",
    "# Добавление в пустой список имен, чьи оценки равны минимальным=предпосл.\n",
    "for student in students:\n",
    "    if student['grade'] == min(grades):\n",
    "        result.append(student['name'])"
   ]
  },
  {
   "cell_type": "markdown",
   "metadata": {},
   "source": [
    "##### * Задание 14"
   ]
  },
  {
   "cell_type": "code",
   "execution_count": null,
   "metadata": {},
   "outputs": [],
   "source": [
    "result = [x for x in set(list_one) if x in list_two]"
   ]
  }
 ],
 "metadata": {
  "kernelspec": {
   "display_name": "Python 3",
   "language": "python",
   "name": "python3"
  },
  "language_info": {
   "codemirror_mode": {
    "name": "ipython",
    "version": 3
   },
   "file_extension": ".py",
   "mimetype": "text/x-python",
   "name": "python",
   "nbconvert_exporter": "python",
   "pygments_lexer": "ipython3",
   "version": "3.7.1"
  }
 },
 "nbformat": 4,
 "nbformat_minor": 2
}
