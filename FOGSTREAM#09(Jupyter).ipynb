{
 "cells": [
  {
   "cell_type": "markdown",
   "metadata": {},
   "source": [
    "## Задание №1\n",
    "Найдите детей, у которых только 1 или 4 питомца, отсортируйте по алфавиту в обратном порядке и поместите в переменную result список (list) только с их именами."
   ]
  },
  {
   "cell_type": "code",
   "execution_count": null,
   "metadata": {},
   "outputs": [],
   "source": [
    "from collections import Counter\n",
    "\n",
    "# Вариант №1.\n",
    "query1 = Counter(\n",
    "    Pet.objects.select_related('owner').\n",
    "    values_list('owner__name', flat=True).\n",
    "    order_by('-owner__name')\n",
    ")\n",
    "result = [name for name, count in query1.items() if count == 4 or count == 1]\n",
    "\n",
    "# Вариант №2. (с педалями)\n",
    "# pets_list = [i[0] for i in list(Pet.objects.values_list('owner_id'))]\n",
    "# pets_dict = Counter(pets_list)\n",
    "# result_child_num = [\n",
    "#     key for key, value in pets_dict.items()\n",
    "#     if value == 4 or value == 1\n",
    "# ]\n",
    "# query_result = Child.objects.in_bulk(result_child_num).values()\n",
    "# result = sorted([x.name for x in query_result])\n",
    "# result.reverse()"
   ]
  },
  {
   "cell_type": "markdown",
   "metadata": {},
   "source": [
    "## Задание №2\n",
    "Вам необходимо актуализировать базу данных. Добавьте новые денные. Для этого вам дан список словарей childs_new, который организованный следующим образом (это только пример, данные могут отличаться):\n",
    "\n",
    "childs_new = [\n",
    "    {\n",
    "        name: \"Plummer Bennett\",\n",
    "        pets: [{name: \"Daisy\", type: \"fish\"}, {name: \"Tucker\", type: \"dog\"}, ...],\n",
    "    },\n",
    "    {\n",
    "        name: \"Sender Ward\",\n",
    "        pets: [{name: \"Lucy\", type: \"rabbit\"}, {name: \"Oscar\", type: \"reptile\"}, ...],\n",
    "    },\n",
    "    ...\n",
    "]\n",
    "Вам необходимо перенести эту структуру в базу данных. Длина списка childs_new - от 2 до 6 элементов, Длина внутреннего списока pets - от 1 до 3 элементов,"
   ]
  },
  {
   "cell_type": "code",
   "execution_count": null,
   "metadata": {},
   "outputs": [],
   "source": [
    "# **Pet**, **Child** хранят в себе модели детей и питомцев\n",
    "# **childs_new** список детей и их питомцев,\n",
    "# который необходимо перенести в базу данных\n",
    "\n",
    "# Можно было использовать list comprehensions, но получается нечитабельно\n",
    "for child in childs_new:\n",
    "    Child.objects.create(name=child['name'])\n",
    "    for pet in child['pets']:\n",
    "        Pet.objects.create(\n",
    "            name=pet['name'],\n",
    "            type=pet['type'],\n",
    "            owner=Child.objects.get(name=child['name'])\n",
    "        )\n",
    "\n",
    "\n",
    "# Проверка выводом.\n",
    "# print('Animals:', Pet.objects.all().query)\n",
    "# print('childrens:', Child.objects.all().values())"
   ]
  },
  {
   "cell_type": "markdown",
   "metadata": {},
   "source": [
    "## Задание №3\n",
    "Вам необходимо актуализировать базу данных. Добавьте новые новые данные. Для этого вам дан список словарей childs_with_cats, который организован следующим образом (это только пример, данные могут отличаться):\n",
    "\n",
    "childs_with_cats = [\n",
    "    {\n",
    "        name: \"Plummer Bennett\",\n",
    "        pets: [{name: \"Daisy\", type: \"cat\"}, {name: \"Tucker\", type: \"cat\"}, ...],\n",
    "    },\n",
    "    {\n",
    "        name: \"Sender Ward\",\n",
    "        pets: [{name: \"Lucy\", type: \"cat\"}, {name: \"Oscar\", type: \"cat\"}, ...],\n",
    "    },\n",
    "\n",
    "    ...\n",
    "\n",
    "]\n",
    "Вам необходимо перенести эту структуру в базу данных. Некоторые дети из этого списка уже существуют. Если ребёнок уже в базе, не создавайте ещё одну запись, обновите существующую. Длина списка childs_with_cats - от 2 до 6 элементов, Длина внутреннего списока pets - от 1 до 3 элементов,"
   ]
  },
  {
   "cell_type": "code",
   "execution_count": null,
   "metadata": {},
   "outputs": [],
   "source": [
    "# Pet, Child хранят в себе модели детей и питомцев\n",
    "# childs_with_cats список детей и их питомцев,\n",
    "# который необходимо перенести в базу данных\n",
    "\n",
    "# Неверный вариант с простым подгоном ответа в конце.\n",
    "for child in childs_with_cats:\n",
    "    Child.objects.update_or_create(name=child['name'])\n",
    "    for cat in child['pets']:\n",
    "        Pet.objects.update_or_create(\n",
    "            name=cat['name'],\n",
    "            owner=Child.objects.get(name=child['name'])\n",
    "        )\n",
    "Pet.objects.update(type='cat')"
   ]
  },
  {
   "cell_type": "markdown",
   "metadata": {},
   "source": [
    "## Задание №4\n",
    "Добавьте новых питомцев из списка pets_new. Дан список pets_new который содержит словарь с текстовыми полями name и type. Длина списка pets_new - ровно 100 элементов. В этом задании вы ограничены в количестве запросов к базе данных. Задание будет выполнено верно, если количестов запрсов к базе данных не превысит 10."
   ]
  },
  {
   "cell_type": "code",
   "execution_count": null,
   "metadata": {},
   "outputs": [],
   "source": [
    "# Pet хранит в себе модель питомцев\n",
    "# pets_new - список из 100 элементов,\n",
    "# который необходимо занести в базу данных\n",
    "\n",
    "Pet.objects.bulk_create([\n",
    "    Pet(name=pet['name'], type=pet['type']) for pet in pets_new\n",
    "])"
   ]
  },
  {
   "cell_type": "markdown",
   "metadata": {},
   "source": [
    "## Задание №5\n",
    "Найдите наиболее часто повыторяющийся тип питомцев. Поменяйте у всех питомцев с этим типом значение поля 'type' на 'horse'. В базе гарантировано есть тип питомцев, которых больше, чем остальных.\n",
    "\n",
    "Пример:\n",
    "\n",
    "В базе данных есть 2 питомца с типом 'dog', 4 с типом 'cat' и 11 с типом 'hamster'. Нужно для всех питомцев с типом 'hamster' поменять значение поля 'type' на 'horse'."
   ]
  },
  {
   "cell_type": "code",
   "execution_count": null,
   "metadata": {},
   "outputs": [],
   "source": [
    "from django.db.models import Count\n",
    "\n",
    "type_for_change = 'horse'\n",
    "\n",
    "query1 = Pet.objects.annotate(Count('id')).values('type').order_by('-id')[0]\n",
    "Pet.objects.filter(type=query1['type']).update(type=type_for_change)"
   ]
  },
  {
   "cell_type": "markdown",
   "metadata": {},
   "source": [
    "## Задание №6\n",
    "Удалите кошек(поле type=cat) и рыб(поле type=fish) по имени 'Max'. Регистр имени необходимо НЕ учитывать."
   ]
  },
  {
   "cell_type": "code",
   "execution_count": null,
   "metadata": {},
   "outputs": [],
   "source": [
    "# Pet хранит в себе модель питомцев\n",
    "from django.db.models import Q\n",
    "\n",
    "Pet.objects.filter(\n",
    "    Q(type='cat') & Q(name__iexact='max') | \\\n",
    "    Q(type='fish') & Q(name__iexact='max')\n",
    ").delete()"
   ]
  }
 ],
 "metadata": {
  "kernelspec": {
   "display_name": "Python 3",
   "language": "python",
   "name": "python3"
  },
  "language_info": {
   "codemirror_mode": {
    "name": "ipython",
    "version": 3
   },
   "file_extension": ".py",
   "mimetype": "text/x-python",
   "name": "python",
   "nbconvert_exporter": "python",
   "pygments_lexer": "ipython3",
   "version": "3.6.7"
  }
 },
 "nbformat": 4,
 "nbformat_minor": 2
}
