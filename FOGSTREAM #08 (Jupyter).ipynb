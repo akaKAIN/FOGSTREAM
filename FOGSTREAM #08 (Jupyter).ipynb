{
 "cells": [
  {
   "cell_type": "markdown",
   "metadata": {},
   "source": [
    "## Задание №1\n",
    "Дан список строк с путями dir_list\n",
    "\n",
    "Например:\n",
    "\n",
    "dir_list = [\n",
    "    '/etc/./config',\n",
    "    '/dev/usb/dev1/socket.socket',\n",
    "    '/dev/usb/',\n",
    "    '/dev/usb/dev1/socket.socket/../../'\n",
    "    '/etc/../config',\n",
    "    '/etc'\n",
    "]\n",
    "\n",
    "Необходимо нормализовать пути и записать в `result` количество уникальных путей"
   ]
  },
  {
   "cell_type": "code",
   "execution_count": null,
   "metadata": {},
   "outputs": [],
   "source": [
    "import os.path\n",
    "\n",
    "result = len(set(map(os.path.normpath, dir_list)))"
   ]
  },
  {
   "cell_type": "markdown",
   "metadata": {},
   "source": [
    "## Задание №2\n",
    "Дан список путей к файлам files_list\n",
    "\n",
    "Пример:\n",
    "\n",
    "files_list = [\n",
    "    '/home/user/Pictures',\n",
    "    '/home/user/Videos/film.avi',\n",
    "    '/home/user/Music/shopen.mp3',\n",
    "    '/home/user/Pictures/animals/tiger.jpg',\n",
    "    '/home/user/Music/shopen.mp3'\n",
    "    '/home/user/Music/artist/album/track.mp3'\n",
    "]\n",
    "\n",
    "Найти максимально длинный (корневой) путь от которого можно получить\n",
    "\n",
    "доступ к любому файлу из списка\n",
    "\n",
    "и сохранить его в переменной `result`"
   ]
  },
  {
   "cell_type": "code",
   "execution_count": null,
   "metadata": {},
   "outputs": [],
   "source": [
    "import os.path\n",
    "\n",
    "result = os.path.commonpath(files_list)"
   ]
  },
  {
   "cell_type": "markdown",
   "metadata": {},
   "source": [
    "## Задание №3\n",
    "Дан список путей\n",
    "\n",
    "path_list = [\n",
    "    '/path/path/1.txt',\n",
    "    '/path/path/1.py',\n",
    "    '/path/path/1.txt',\n",
    "    '/path/path/1.py',\n",
    "    '/path/path/1.txt',\n",
    "    '/path/path/1.docx',\n",
    "    '/path/path/1.txt',\n",
    "]\n",
    "\n",
    "Используя os.path.splitext сформировать словарь:\n",
    "\n",
    "ключ - расширение\n",
    "значение  - количество файлов\n",
    "\n",
    "и сохранить его в переменной result"
   ]
  },
  {
   "cell_type": "code",
   "execution_count": null,
   "metadata": {},
   "outputs": [],
   "source": [
    "import os.path\n",
    "from collections import Counter\n",
    "\n",
    "result = Counter([os.path.splitext(x)[-1] for x in path_list])"
   ]
  },
  {
   "cell_type": "markdown",
   "metadata": {},
   "source": [
    "## Задание №4\n",
    "Дан массив имен файлов files_heap\n",
    "\n",
    "files_heap = [\n",
    "    song.mp3,\n",
    "    film.avi,\n",
    "    document.txt,\n",
    "    document.docx\n",
    "]\n",
    "\n",
    "Файлы делятся на 3 категории: музыка, фильмы, документы\n",
    "\n",
    "Дана карта расширений\n",
    "\n",
    "path_map = {\n",
    "    <название расширения str>: <путь до директории str>\n",
    "}\n",
    "\n",
    "\n",
    "Необходимо сгенерировать список полных путей.\n",
    "Полный путь это\n",
    "[соответствующая расширению директория из path_map] + [имя файла]\n",
    "\n",
    "Результат записать в переменную result\n"
   ]
  },
  {
   "cell_type": "code",
   "execution_count": null,
   "metadata": {},
   "outputs": [],
   "source": [
    "from os.path import join, splitext\n",
    "\n",
    "result = [join(path_map[splitext(x)[-1]], x) for x in files_heap]"
   ]
  }
 ],
 "metadata": {
  "kernelspec": {
   "display_name": "Python 3",
   "language": "python",
   "name": "python3"
  },
  "language_info": {
   "codemirror_mode": {
    "name": "ipython",
    "version": 3
   },
   "file_extension": ".py",
   "mimetype": "text/x-python",
   "name": "python",
   "nbconvert_exporter": "python",
   "pygments_lexer": "ipython3",
   "version": "3.6.7"
  }
 },
 "nbformat": 4,
 "nbformat_minor": 2
}
